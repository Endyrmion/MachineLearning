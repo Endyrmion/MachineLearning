{
  "nbformat": 4,
  "nbformat_minor": 0,
  "metadata": {
    "colab": {
      "name": "TeslaStocks.ipynb",
      "provenance": [],
      "collapsed_sections": [],
      "authorship_tag": "ABX9TyN/IX4PDdqKUZYZLLKBQrVv",
      "include_colab_link": true
    },
    "kernelspec": {
      "name": "python3",
      "display_name": "Python 3"
    }
  },
  "cells": [
    {
      "cell_type": "markdown",
      "metadata": {
        "id": "view-in-github",
        "colab_type": "text"
      },
      "source": [
        "<a href=\"https://colab.research.google.com/github/Endyrmion/MachineLearning/blob/master/TeslaStocks.ipynb\" target=\"_parent\"><img src=\"https://colab.research.google.com/assets/colab-badge.svg\" alt=\"Open In Colab\"/></a>"
      ]
    },
    {
      "cell_type": "markdown",
      "metadata": {
        "id": "yCqko13eJWq3"
      },
      "source": [
        "Tesla stock prices predictions\r\n",
        "\r\n",
        "Training Data 2010 à 2016\r\n",
        "Test Data  2016 à 2018"
      ]
    },
    {
      "cell_type": "code",
      "metadata": {
        "id": "CIfQpiFJtU77"
      },
      "source": [
        "# libraries & Keras Sequential, Dense, LSTM, Dropout\r\n",
        "import numpy as np\r\n",
        "import matplotlib.pyplot as plt\r\n",
        "import pandas as pd\r\n",
        "from sklearn.preprocessing import MinMaxScaler\r\n",
        "from keras.models import Sequential # model adapté 1 input output tensor\r\n",
        "from keras.layers import Dense # Dense Layer couche classique complétement connecté avec la couche précedente et la  suitvante\r\n",
        "from keras.layers import LSTM\r\n",
        "from keras.layers import Dropout\r\n"
      ],
      "execution_count": 2,
      "outputs": []
    },
    {
      "cell_type": "code",
      "metadata": {
        "id": "SiH_7Gk7Jvm9"
      },
      "source": [
        "# importing the training set\r\n",
        "dataset_train = pd.read_csv('Tesla.csv')\r\n",
        "training_set = dataset_train.iloc[:, 1:2].values"
      ],
      "execution_count": 3,
      "outputs": []
    },
    {
      "cell_type": "code",
      "metadata": {
        "colab": {
          "base_uri": "https://localhost:8080/"
        },
        "id": "G-RiHu6epywp",
        "outputId": "d9ba6670-833f-4bc7-b1c1-aeed88bceb3d"
      },
      "source": [
        "print(training_set[1])"
      ],
      "execution_count": 21,
      "outputs": [
        {
          "output_type": "stream",
          "text": [
            "[25.790001]\n"
          ],
          "name": "stdout"
        }
      ]
    },
    {
      "cell_type": "markdown",
      "metadata": {
        "id": "gcWEfrRPM48k"
      },
      "source": [
        "Feature Scaling"
      ]
    },
    {
      "cell_type": "code",
      "metadata": {
        "id": "3jj5ryilMXbU"
      },
      "source": [
        "#feature scaling pour remove les biais(dif trop importantes entres les valeurs)\r\n",
        "sc = MinMaxScaler(feature_range = (0, 1))\r\n",
        "training_set_scaled = sc.fit_transform(training_set)"
      ],
      "execution_count": 4,
      "outputs": []
    },
    {
      "cell_type": "code",
      "metadata": {
        "colab": {
          "base_uri": "https://localhost:8080/"
        },
        "id": "2WjJhXh9qJ6x",
        "outputId": "4a90133c-08c1-4359-a559-b77476fd8245"
      },
      "source": [
        "print(training_set_scaled[1])"
      ],
      "execution_count": 28,
      "outputs": [
        {
          "output_type": "stream",
          "text": [
            "[0.03553936]\n"
          ],
          "name": "stdout"
        }
      ]
    },
    {
      "cell_type": "code",
      "metadata": {
        "id": "I_U5DWlMMwQE"
      },
      "source": [
        "X_train = []\r\n",
        "y_train = []\r\n",
        "for i in range(60, 1388):\r\n",
        "  X_train.append(training_set_scaled[i-60:i, 0]) #  \"open value\"\r\n",
        "  y_train.append(training_set_scaled[i, 0])\r\n",
        "  #0-59 > 60?\r\n",
        "  #1-60 > 61?\r\n",
        "  #...\r\n",
        "#conversion numpy array pour pouvoir reshape\r\n",
        "X_train, y_train = np.array(X_train), np.array(y_train)\r\n",
        "\r\n",
        "X_train = np.reshape(X_train, (X_train.shape[0], X_train.shape[1], 1))"
      ],
      "execution_count": 34,
      "outputs": []
    },
    {
      "cell_type": "code",
      "metadata": {
        "colab": {
          "base_uri": "https://localhost:8080/"
        },
        "id": "hqqg2h2cqPQh",
        "outputId": "828d7ae8-00c3-4647-e171-590316264558"
      },
      "source": [
        "print(y_train[600])"
      ],
      "execution_count": 33,
      "outputs": [
        {
          "output_type": "stream",
          "text": [
            "0.08216403656945268\n"
          ],
          "name": "stdout"
        }
      ]
    },
    {
      "cell_type": "code",
      "metadata": {
        "id": "zGtHOB0uqIzB"
      },
      "source": [
        ""
      ],
      "execution_count": null,
      "outputs": []
    },
    {
      "cell_type": "code",
      "metadata": {
        "id": "8tnVp6TkPFCb"
      },
      "source": [
        "#init\r\n",
        "regressor = Sequential()"
      ],
      "execution_count": 6,
      "outputs": []
    },
    {
      "cell_type": "code",
      "metadata": {
        "id": "Z3vF9-bhPciM"
      },
      "source": [
        "regressor.add(LSTM(units = 50, return_sequences = True, input_shape = (X_train.shape[1], 1)))\r\n",
        "regressor.add(Dropout(0.2))"
      ],
      "execution_count": 7,
      "outputs": []
    },
    {
      "cell_type": "code",
      "metadata": {
        "id": "1XQll48NPqlT"
      },
      "source": [
        "regressor.add(LSTM(units = 50, return_sequences = True))\r\n",
        "regressor.add(Dropout(0.2))"
      ],
      "execution_count": 8,
      "outputs": []
    },
    {
      "cell_type": "code",
      "metadata": {
        "id": "YBpvRUR8P38S"
      },
      "source": [
        "regressor.add(LSTM(units = 50, return_sequences = True))\r\n",
        "regressor.add(Dropout(0.2))"
      ],
      "execution_count": 9,
      "outputs": []
    },
    {
      "cell_type": "code",
      "metadata": {
        "id": "QXfEi_PEP4rr"
      },
      "source": [
        "regressor.add(LSTM(units = 50))\r\n",
        "regressor.add(Dropout(0.2))"
      ],
      "execution_count": 10,
      "outputs": []
    },
    {
      "cell_type": "code",
      "metadata": {
        "id": "v7GyBg1QP-Qq"
      },
      "source": [
        "regressor.add(Dense(units = 1))"
      ],
      "execution_count": 11,
      "outputs": []
    },
    {
      "cell_type": "code",
      "metadata": {
        "id": "U255pxewQRQ8"
      },
      "source": [
        "regressor.compile(optimizer = 'adam', loss = 'mean_squared_error') #adam good with optimisé pour le big data, mean squared value pour l'erreur"
      ],
      "execution_count": 12,
      "outputs": []
    },
    {
      "cell_type": "code",
      "metadata": {
        "colab": {
          "base_uri": "https://localhost:8080/"
        },
        "id": "nUg456CORtkc",
        "outputId": "712c8cbe-dd81-4773-a9c0-630dabaf435a"
      },
      "source": [
        "print(len(X_train))\r\n",
        "print(len(y_train))"
      ],
      "execution_count": 13,
      "outputs": [
        {
          "output_type": "stream",
          "text": [
            "1328\n",
            "1328\n"
          ],
          "name": "stdout"
        }
      ]
    },
    {
      "cell_type": "code",
      "metadata": {
        "colab": {
          "base_uri": "https://localhost:8080/"
        },
        "id": "o1eiep1JQfR6",
        "outputId": "e207d435-9080-442c-aeea-99472ca4024d"
      },
      "source": [
        "regressor.fit(X_train, y_train, epochs = 30, batch_size = 32)"
      ],
      "execution_count": 14,
      "outputs": [
        {
          "output_type": "stream",
          "text": [
            "Epoch 1/30\n",
            "42/42 [==============================] - 11s 105ms/step - loss: 0.0643\n",
            "Epoch 2/30\n",
            "42/42 [==============================] - 5s 112ms/step - loss: 0.0058\n",
            "Epoch 3/30\n",
            "42/42 [==============================] - 5s 111ms/step - loss: 0.0060\n",
            "Epoch 4/30\n",
            "42/42 [==============================] - 5s 117ms/step - loss: 0.0050\n",
            "Epoch 5/30\n",
            "42/42 [==============================] - 5s 122ms/step - loss: 0.0045\n",
            "Epoch 6/30\n",
            "42/42 [==============================] - 5s 114ms/step - loss: 0.0050\n",
            "Epoch 7/30\n",
            "42/42 [==============================] - 5s 111ms/step - loss: 0.0043\n",
            "Epoch 8/30\n",
            "42/42 [==============================] - 5s 111ms/step - loss: 0.0044\n",
            "Epoch 9/30\n",
            "42/42 [==============================] - 5s 113ms/step - loss: 0.0044\n",
            "Epoch 10/30\n",
            "42/42 [==============================] - 5s 114ms/step - loss: 0.0039\n",
            "Epoch 11/30\n",
            "42/42 [==============================] - 5s 115ms/step - loss: 0.0034\n",
            "Epoch 12/30\n",
            "42/42 [==============================] - 5s 114ms/step - loss: 0.0034\n",
            "Epoch 13/30\n",
            "42/42 [==============================] - 5s 114ms/step - loss: 0.0034\n",
            "Epoch 14/30\n",
            "42/42 [==============================] - 5s 119ms/step - loss: 0.0031\n",
            "Epoch 15/30\n",
            "42/42 [==============================] - 5s 117ms/step - loss: 0.0034\n",
            "Epoch 16/30\n",
            "42/42 [==============================] - 5s 118ms/step - loss: 0.0034\n",
            "Epoch 17/30\n",
            "42/42 [==============================] - 5s 115ms/step - loss: 0.0029\n",
            "Epoch 18/30\n",
            "42/42 [==============================] - 5s 114ms/step - loss: 0.0033\n",
            "Epoch 19/30\n",
            "42/42 [==============================] - 5s 116ms/step - loss: 0.0031\n",
            "Epoch 20/30\n",
            "42/42 [==============================] - 5s 118ms/step - loss: 0.0030\n",
            "Epoch 21/30\n",
            "42/42 [==============================] - 5s 115ms/step - loss: 0.0034\n",
            "Epoch 22/30\n",
            "42/42 [==============================] - 5s 114ms/step - loss: 0.0031\n",
            "Epoch 23/30\n",
            "42/42 [==============================] - 5s 115ms/step - loss: 0.0030\n",
            "Epoch 24/30\n",
            "42/42 [==============================] - 5s 114ms/step - loss: 0.0034\n",
            "Epoch 25/30\n",
            "42/42 [==============================] - 5s 116ms/step - loss: 0.0030\n",
            "Epoch 26/30\n",
            "42/42 [==============================] - 5s 129ms/step - loss: 0.0026\n",
            "Epoch 27/30\n",
            "42/42 [==============================] - 5s 114ms/step - loss: 0.0033\n",
            "Epoch 28/30\n",
            "42/42 [==============================] - 5s 111ms/step - loss: 0.0030\n",
            "Epoch 29/30\n",
            "42/42 [==============================] - 5s 113ms/step - loss: 0.0024\n",
            "Epoch 30/30\n",
            "42/42 [==============================] - 5s 112ms/step - loss: 0.0029\n"
          ],
          "name": "stdout"
        },
        {
          "output_type": "execute_result",
          "data": {
            "text/plain": [
              "<tensorflow.python.keras.callbacks.History at 0x7f4cc2923710>"
            ]
          },
          "metadata": {
            "tags": []
          },
          "execution_count": 14
        }
      ]
    },
    {
      "cell_type": "code",
      "metadata": {
        "id": "2T7h4AT4XSIY"
      },
      "source": [
        "# the real stock price of 2016 - 2018\r\n",
        "dataset_test = pd.read_csv('Tesla_test.csv')\r\n",
        "real_stock_price = dataset_test.iloc[:, 1:2].values"
      ],
      "execution_count": 15,
      "outputs": []
    },
    {
      "cell_type": "code",
      "metadata": {
        "colab": {
          "base_uri": "https://localhost:8080/"
        },
        "id": "BKOChJYQXkSY",
        "outputId": "62c398a8-2d2c-4df9-8034-9b7bcdb92961"
      },
      "source": [
        "# prédict\r\n",
        "dataset_total = pd.concat((dataset_train['Open'], dataset_test['Open']), axis = 0)\r\n",
        "inputs = dataset_total[len(dataset_total) - len(dataset_test) - 60:].values\r\n",
        "inputs = inputs.reshape(-1, 1)\r\n",
        "inputs = sc.transform(inputs)\r\n",
        "print(inputs)\r\n",
        "X_test = []\r\n",
        "for i in range(60, 364):\r\n",
        "  X_test.append(inputs[i-60:i, 0])\r\n",
        "X_test = np.array(X_test)\r\n",
        "X_test = np.reshape(X_test, (X_test.shape[0], X_test.shape[1], 1))\r\n",
        "predicted_stock_price = regressor.predict(X_test)\r\n",
        "predicted_stock_price = sc.inverse_transform(predicted_stock_price)"
      ],
      "execution_count": 16,
      "outputs": [
        {
          "output_type": "stream",
          "text": [
            "[[0.81202812]\n",
            " [0.78790554]\n",
            " [0.75420758]\n",
            " [0.76179426]\n",
            " [0.72603392]\n",
            " [0.75325006]\n",
            " [0.73763482]\n",
            " [0.76197836]\n",
            " [0.77472099]\n",
            " [0.77921405]\n",
            " [0.72128308]\n",
            " [0.71969944]\n",
            " [0.7323684 ]\n",
            " [0.71903656]\n",
            " [0.73177913]\n",
            " [0.71877873]\n",
            " [0.72039919]\n",
            " [0.71542734]\n",
            " [0.70997676]\n",
            " [0.72813316]\n",
            " [0.77656241]\n",
            " [0.78974696]\n",
            " [0.79018888]\n",
            " [0.7986226 ]\n",
            " [0.76359882]\n",
            " [0.74256986]\n",
            " [0.7428645 ]\n",
            " [0.72481858]\n",
            " [0.69955433]\n",
            " [0.73310495]\n",
            " [0.73052698]\n",
            " [0.75277127]\n",
            " [0.76363568]\n",
            " [0.74102308]\n",
            " [0.73373103]\n",
            " [0.75571755]\n",
            " [0.79151471]\n",
            " [0.79420316]\n",
            " [0.79151471]\n",
            " [0.81339075]\n",
            " [0.80779282]\n",
            " [0.79667071]\n",
            " [0.77914038]\n",
            " [0.77847749]\n",
            " [0.77545754]\n",
            " [0.76812874]\n",
            " [0.77008064]\n",
            " [0.74161229]\n",
            " [0.75748535]\n",
            " [0.75851654]\n",
            " [0.80212128]\n",
            " [0.7982543 ]\n",
            " [0.79383491]\n",
            " [0.80598827]\n",
            " [0.79563946]\n",
            " [0.78967329]\n",
            " [0.79309835]\n",
            " [0.78783187]\n",
            " [0.81191764]\n",
            " [0.81895181]\n",
            " [0.79026255]\n",
            " [0.7742054 ]\n",
            " [0.75078257]\n",
            " [0.72938531]\n",
            " [0.74290131]\n",
            " [0.72872237]\n",
            " [0.71984678]\n",
            " [0.7213567 ]\n",
            " [0.68526497]\n",
            " [0.67333257]\n",
            " [0.7092034 ]\n",
            " [0.67491616]\n",
            " [0.68283429]\n",
            " [0.6948035 ]\n",
            " [0.67734685]\n",
            " [0.66497252]\n",
            " [0.64906271]\n",
            " [0.64320696]\n",
            " [0.64011339]\n",
            " [0.63573081]\n",
            " [0.64920999]\n",
            " [0.61669056]\n",
            " [0.56921883]\n",
            " [0.57142856]\n",
            " [0.51913232]\n",
            " [0.46470004]\n",
            " [0.4948256 ]\n",
            " [0.50034985]\n",
            " [0.51139835]\n",
            " [0.52502482]\n",
            " [0.52612969]\n",
            " [0.57555331]\n",
            " [0.54329171]\n",
            " [0.56708278]\n",
            " [0.58932713]\n",
            " [0.57676866]\n",
            " [0.59849735]\n",
            " [0.63550985]\n",
            " [0.64913632]\n",
            " [0.65594959]\n",
            " [0.61720616]\n",
            " [0.63396307]\n",
            " [0.66976022]\n",
            " [0.66858168]\n",
            " [0.6900158 ]\n",
            " [0.69377231]\n",
            " [0.71395423]\n",
            " [0.70633073]\n",
            " [0.72371371]\n",
            " [0.72967994]\n",
            " [0.7434169 ]\n",
            " [0.75619634]\n",
            " [0.78429638]\n",
            " [0.80727723]\n",
            " [0.81416417]\n",
            " [0.79633921]\n",
            " [0.735241  ]\n",
            " [0.79354028]\n",
            " [0.78720579]\n",
            " [0.80635652]\n",
            " [0.78518022]\n",
            " [0.84222735]\n",
            " [0.85802668]\n",
            " [0.82628067]\n",
            " [0.87588845]\n",
            " [0.92185026]\n",
            " [0.89993735]\n",
            " [0.86495042]\n",
            " [0.85942617]\n",
            " [0.85578015]\n",
            " [0.87231609]\n",
            " [0.8660921 ]\n",
            " [0.8694803 ]\n",
            " [0.87275801]\n",
            " [0.84749377]\n",
            " [0.85754795]\n",
            " [0.85717964]\n",
            " [0.8723529 ]\n",
            " [0.86881741]\n",
            " [0.87139538]\n",
            " [0.86071519]\n",
            " [0.85441752]\n",
            " [0.8299635 ]\n",
            " [0.81471657]\n",
            " [0.7886789 ]\n",
            " [0.78193937]\n",
            " [0.71715827]\n",
            " [0.73502004]\n",
            " [0.70493129]\n",
            " [0.70507858]\n",
            " [0.71925751]\n",
            " [0.70577833]\n",
            " [0.70714096]\n",
            " [0.71045554]\n",
            " [0.71082379]\n",
            " [0.72728607]\n",
            " [0.73969725]\n",
            " [0.75030378]\n",
            " [0.73826095]\n",
            " [0.74308546]\n",
            " [0.75262398]\n",
            " [0.76915993]\n",
            " [0.76197836]\n",
            " [0.75623315]\n",
            " [0.74927259]\n",
            " [0.75078257]\n",
            " [0.7434169 ]\n",
            " [0.75903213]\n",
            " [0.80160569]\n",
            " [0.80595141]\n",
            " [0.77799871]\n",
            " [0.74894115]\n",
            " [0.74665781]\n",
            " [0.73954991]\n",
            " [0.74128085]\n",
            " [0.74271715]\n",
            " [0.74894115]\n",
            " [0.75328687]\n",
            " [0.67517399]\n",
            " [0.66125288]\n",
            " [0.6404817 ]\n",
            " [0.64346478]\n",
            " [0.68408644]\n",
            " [0.69601884]\n",
            " [0.72489225]\n",
            " [0.69973848]\n",
            " [0.71295985]\n",
            " [0.71395423]\n",
            " [0.72537103]\n",
            " [0.74268034]\n",
            " [0.75063528]\n",
            " [0.76588221]\n",
            " [0.77103815]\n",
            " [0.76227299]\n",
            " [0.76006332]\n",
            " [0.74945674]\n",
            " [0.76919674]\n",
            " [0.77461051]\n",
            " [0.77287957]\n",
            " [0.75811143]\n",
            " [0.75914262]\n",
            " [0.77910357]\n",
            " [0.78518022]\n",
            " [0.78006109]\n",
            " [0.79018888]\n",
            " [0.8078665 ]\n",
            " [0.7852907 ]\n",
            " [0.77792504]\n",
            " [0.7717379 ]\n",
            " [0.78761091]\n",
            " [0.78024524]\n",
            " [0.77589952]\n",
            " [0.78112914]\n",
            " [0.77350565]\n",
            " [0.77070671]\n",
            " [0.77295324]\n",
            " [0.77100134]\n",
            " [0.76672925]\n",
            " [0.76485102]\n",
            " [0.76381977]\n",
            " [0.76613998]\n",
            " [0.76669244]\n",
            " [0.77674656]\n",
            " [0.76223619]\n",
            " [0.75866383]\n",
            " [0.75133497]\n",
            " [0.73645635]\n",
            " [0.71553782]\n",
            " [0.7103082 ]\n",
            " [0.6857069 ]\n",
            " [0.67351672]\n",
            " [0.69738147]\n",
            " [0.67546862]\n",
            " [0.67377449]\n",
            " [0.65871171]\n",
            " [0.66629835]\n",
            " [0.66147384]\n",
            " [0.66419916]\n",
            " [0.67867267]\n",
            " [0.70290572]\n",
            " [0.70235332]\n",
            " [0.70058552]\n",
            " [0.700696  ]\n",
            " [0.69918608]\n",
            " [0.70106431]\n",
            " [0.71266521]\n",
            " [0.70478395]\n",
            " [0.69774978]\n",
            " [0.68526497]\n",
            " [0.72242476]\n",
            " [0.72537103]\n",
            " [0.72220379]\n",
            " [0.68618568]\n",
            " [0.68080872]\n",
            " [0.68209773]\n",
            " [0.68393915]\n",
            " [0.68062457]\n",
            " [0.6789673 ]\n",
            " [0.67955657]\n",
            " [0.66626154]\n",
            " [0.66235774]\n",
            " [0.67616837]\n",
            " [0.68493347]\n",
            " [0.67196994]\n",
            " [0.68080872]\n",
            " [0.68780608]\n",
            " [0.68080872]\n",
            " [0.71888921]\n",
            " [0.69185722]\n",
            " [0.68629616]\n",
            " [0.6699075 ]\n",
            " [0.6404817 ]\n",
            " [0.63661471]\n",
            " [0.63661471]\n",
            " [0.6535189 ]\n",
            " [0.65425546]\n",
            " [0.62880712]\n",
            " [0.64416453]\n",
            " [0.61908444]\n",
            " [0.63293188]\n",
            " [0.61370748]\n",
            " [0.61322869]\n",
            " [0.61632231]\n",
            " [0.64269136]\n",
            " [0.62203066]\n",
            " [0.62497694]\n",
            " [0.64254408]\n",
            " [0.65370306]\n",
            " [0.66047946]\n",
            " [0.66077409]\n",
            " [0.64398038]\n",
            " [0.63385258]\n",
            " [0.61407578]\n",
            " [0.6127131 ]\n",
            " [0.62379846]\n",
            " [0.62611861]\n",
            " [0.64784736]\n",
            " [0.64350159]\n",
            " [0.65060949]\n",
            " [0.65200893]\n",
            " [0.67248553]\n",
            " [0.67127019]\n",
            " [0.67005485]\n",
            " [0.68629616]\n",
            " [0.68835854]\n",
            " [0.70824582]\n",
            " [0.70739879]\n",
            " [0.70658856]\n",
            " [0.73192647]\n",
            " [0.7564173 ]\n",
            " [0.74547928]\n",
            " [0.73715609]\n",
            " [0.7318528 ]\n",
            " [0.73144769]\n",
            " [0.77442635]\n",
            " [0.77630458]\n",
            " [0.78381759]\n",
            " [0.79497658]\n",
            " [0.7841859 ]\n",
            " [0.78414904]\n",
            " [0.78761091]\n",
            " [0.81228589]\n",
            " [0.81210173]\n",
            " [0.8511398 ]\n",
            " [0.84454755]\n",
            " [0.84598385]\n",
            " [0.86126759]\n",
            " [0.8881891 ]\n",
            " [0.87706692]\n",
            " [0.86634992]\n",
            " [0.87058516]\n",
            " [0.85846866]\n",
            " [0.87250025]\n",
            " [0.85515407]\n",
            " [0.86830182]\n",
            " [0.86495042]\n",
            " [0.89143001]\n",
            " [0.88833644]\n",
            " [0.92111365]\n",
            " [0.93415091]\n",
            " [0.93764953]\n",
            " [0.96818026]\n",
            " [0.97175261]\n",
            " [0.96291383]\n",
            " [0.91945633]\n",
            " [0.95499576]\n",
            " [0.97289429]\n",
            " [0.91282727]\n",
            " [0.87106394]\n",
            " [0.854528  ]\n",
            " [0.83987033]\n",
            " [0.87666181]\n",
            " [0.86019959]\n",
            " [0.86399291]\n",
            " [0.85357048]\n",
            " [0.86833862]\n",
            " [0.85021909]\n",
            " [0.85253929]\n",
            " [0.84730968]\n",
            " [0.84219054]\n",
            " [0.84694137]\n",
            " [0.88704743]\n",
            " [0.90693471]\n",
            " [0.91282727]]\n"
          ],
          "name": "stdout"
        }
      ]
    },
    {
      "cell_type": "code",
      "metadata": {
        "colab": {
          "base_uri": "https://localhost:8080/",
          "height": 295
        },
        "id": "b3qaVkAhZ8g2",
        "outputId": "bd87bc45-c3dd-4377-8fc2-40a8afc50054"
      },
      "source": [
        "plt.plot(real_stock_price, color = 'red', label = 'Real Tesla Stock Price')\r\n",
        "plt.plot(predicted_stock_price, color = 'blue', label = 'Predicted Tesla Stock Price')\r\n",
        "\r\n",
        "plt.title('Tesla Stocks Price Prediction')\r\n",
        "plt.xlabel('Tesla Stock Price')\r\n",
        "plt.legend()\r\n",
        "plt.show()"
      ],
      "execution_count": 17,
      "outputs": [
        {
          "output_type": "display_data",
          "data": {
            "image/png": "[encoded data removed]",
            "text/plain": [
              "<Figure size 432x288 with 1 Axes>"
            ]
          },
          "metadata": {
            "tags": [],
            "needs_background": "light"
          }
        }
      ]
    },
    {
      "cell_type": "code",
      "metadata": {
        "id": "x7qnUJB0qEgV"
      },
      "source": [
        ""
      ],
      "execution_count": null,
      "outputs": []
    }
  ]
}